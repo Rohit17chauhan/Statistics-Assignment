{
 "cells": [
  {
   "cell_type": "markdown",
   "id": "0fb928eb",
   "metadata": {},
   "source": [
    "# Q1. What is Statistics?\n",
    "Ans-Statistics is science of collecting, oraganizing, and analyzing the data"
   ]
  },
  {
   "cell_type": "markdown",
   "id": "58c9c2bc",
   "metadata": {},
   "source": [
    "# Q2. Define the different types of statistics and give an example of when each type might be used.\n",
    "\n"
   ]
  },
  {
   "cell_type": "raw",
   "id": "a13315bd",
   "metadata": {},
   "source": [
    "Ans2-There are two type os statistics \n",
    "1-Descriptive Statistics\n",
    "\n",
    "Used-It is used we have to organizing and summarizing the data.\n",
    "Example-To find mean of any data.\n",
    "\n",
    "2-Inferntial Statistics\n",
    "\n",
    "Used-It consist of using data you have measured to form conclusion.\n",
    "Example-Are the height of the student in classroom similar to what you expect in the entire college"
   ]
  },
  {
   "cell_type": "markdown",
   "id": "081e5145",
   "metadata": {},
   "source": [
    "# Q3. What are the different types of data and how do they differ from each other? Provide an example of\n",
    "each type of data.\n",
    "\n",
    "\n"
   ]
  },
  {
   "cell_type": "raw",
   "id": "edbf6f54",
   "metadata": {},
   "source": [
    "Ans3- Data are two type-\n",
    "1-Quantitative  Data\n",
    "2-Qualitative  Data\n",
    "\n",
    "Difference-Quantitative are used for a numeracal data. We can perform an operation of +,*,- and / also.\n",
    "           Qualitative are used for a catogorical data.\n",
    "Example-\n",
    "Quantitative:weight,height,speed etc.\n",
    "Qualitative:Gender,Blood group,etc."
   ]
  },
  {
   "cell_type": "markdown",
   "id": "c5520b77",
   "metadata": {},
   "source": [
    "# Q4. Categorise the following datasets with respect to quantitative and qualitative data types:\n",
    "(i) Grading in exam: A+, A, B+, B, C+, C, D, E\n",
    "(ii) Colour of mangoes: yellow, green, orange, red\n",
    "(iii) Height data of a class: [178.9, 179, 179.5, 176, 177.2, 178.3, 175.8,...]\n",
    "(iv) Number of mangoes exported by a farm: [500, 600, 478, 672, ...]\n",
    "    \n"
   ]
  },
  {
   "cell_type": "raw",
   "id": "6805e0f4",
   "metadata": {},
   "source": [
    "Ans4\n",
    "1-Qualitative\n",
    "2-Qualitative\n",
    "3-Quantitative\n",
    "4-Quantitative"
   ]
  },
  {
   "cell_type": "markdown",
   "id": "88339a5c",
   "metadata": {},
   "source": [
    "# Q5. Explain the concept of levels of measurement and give an example of a variable for each level."
   ]
  },
  {
   "cell_type": "raw",
   "id": "843e66ca",
   "metadata": {},
   "source": [
    "Ans5-\n",
    "Levels of measurement, also known as scales of measurement or types of data, are ways in which variables are categorized and measured in statistics.\n",
    "There are four main levels of measurement: Nominal, Ordinal,Discrete,Continuous\n",
    "Nominal and ordinal are used in Qualitative data.\n",
    "EXAMPLE-Blood group,Customer feedback etc.\n",
    "Discrete and Continuous are used in Quantitative  data.\n",
    "Example-Number of bank account,weight,etc."
   ]
  },
  {
   "cell_type": "markdown",
   "id": "fb72385f",
   "metadata": {},
   "source": [
    "# Q6. Why is it important to understand the level of measurement when analyzing data? Provide an\n",
    "example to illustrate your answer."
   ]
  },
  {
   "cell_type": "raw",
   "id": "e42c2b42",
   "metadata": {},
   "source": [
    "Ans6-Understanding the level of measurement when analyzing data is crucial because it determines the types of statistical \n",
    "analyses that can be appropriately applied and the interpretations that can be made from the data. Ignoring or misunderstanding\n",
    "the level of measurement can lead to incorrect conclusions and inappropriate statistical techniques.\n",
    "\n",
    "Example:\n",
    "Suppose a researcher conducts a study on customer satisfaction with a product, where satisfaction levels are measured using a Likert scale (ordinal data). If the researcher incorrectly analyzes the data by calculating the mean satisfaction score and treating it as interval data, they might erroneously conclude that the average satisfaction level accurately represents the respondents' opinions. However, this interpretation ignores the fact that the Likert scale does not have equal intervals between the response options, potentially leading to misleading conclusions about the true satisfaction levels. Understanding the level of measurement would guide the researcher to use appropriate non-parametric tests or ordinal regression to accurately analyze and interpret the data."
   ]
  },
  {
   "cell_type": "markdown",
   "id": "e65822cb",
   "metadata": {},
   "source": [
    "# Q7. How nominal data type is different from ordinal data type."
   ]
  },
  {
   "cell_type": "raw",
   "id": "4ac8d227",
   "metadata": {},
   "source": [
    "Ans7-\n",
    "In Nominal there is a no rank assign to a data,where ordinal have a rank assign."
   ]
  },
  {
   "cell_type": "markdown",
   "id": "ce967f96",
   "metadata": {},
   "source": [
    "# Q8. Which type of plot can be used to display data in terms of range?"
   ]
  },
  {
   "cell_type": "raw",
   "id": "b934eec7",
   "metadata": {},
   "source": [
    "Ans8-Boxplot"
   ]
  },
  {
   "cell_type": "markdown",
   "id": "d14e897b",
   "metadata": {},
   "source": [
    "# Q9. Describe the difference between descriptive and inferential statistics. Give an example of each\n",
    "type of statistics and explain how they are used."
   ]
  },
  {
   "cell_type": "raw",
   "id": "978a1f59",
   "metadata": {},
   "source": [
    "Ans9- \n",
    "1-Descriptive Statistics\n",
    "\n",
    "Used-It is used we have to organizing and summarizing the data.\n",
    "Example-To find mean of any data.\n",
    "\n",
    "2-Inferntial Statistics\n",
    "\n",
    "Used-It consist of using data you have measured to form conclusion.\n",
    "Example-Are the height of the student in classroom similar to what you expect in the entire college"
   ]
  },
  {
   "cell_type": "markdown",
   "id": "15694ceb",
   "metadata": {},
   "source": [
    "# Q10. What are some common measures of central tendency and variability used in statistics? Explain\n",
    "how each measure can be used to describe a dataset."
   ]
  },
  {
   "cell_type": "raw",
   "id": "dd58d610",
   "metadata": {},
   "source": [
    "Ans10- some common measures of central tendency are mean,median, mode and some measure of dispersion are variance,std\n",
    "mean-used to find average\n",
    "example-Average height of student.\n",
    "median-The median is the middle value of a dataset when the values are arranged in ascending order.\n",
    "Example-The median income in a population indicates the income level at which half of the individuals \n",
    "earn more and half earn less.\n",
    "mode-The mode is the most frequently occurring value in a dataset. It represents the value that appears\n",
    "with the highest frequency.\n",
    "Example-In a survey of favorite colors, the mode would be the color that respondents choose most often.\n",
    "Variance: The variance measures the average squared deviation of each data point from the mean. \n",
    "          It quantifies the dispersion of the data points around the mean.\n",
    "Example: Variance is used to assess the variability of investment returns in a portfolio.\n",
    "\n",
    "Standard Deviation: The standard deviation is the square root of the variance. It provides a measure \n",
    "                of the average distance of data points from the mean and is expressed in the same units as the original data.\n",
    "\n",
    "Example: The standard deviation of student test scores indicates how much the scores deviate from the average score."
   ]
  },
  {
   "cell_type": "code",
   "execution_count": null,
   "id": "d0214455",
   "metadata": {},
   "outputs": [],
   "source": []
  }
 ],
 "metadata": {
  "kernelspec": {
   "display_name": "Python 3 (ipykernel)",
   "language": "python",
   "name": "python3"
  },
  "language_info": {
   "codemirror_mode": {
    "name": "ipython",
    "version": 3
   },
   "file_extension": ".py",
   "mimetype": "text/x-python",
   "name": "python",
   "nbconvert_exporter": "python",
   "pygments_lexer": "ipython3",
   "version": "3.9.12"
  }
 },
 "nbformat": 4,
 "nbformat_minor": 5
}
